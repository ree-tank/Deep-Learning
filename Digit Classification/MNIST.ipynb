{
  "nbformat": 4,
  "nbformat_minor": 0,
  "metadata": {
    "colab": {
      "name": "MNIST.ipynb",
      "provenance": [],
      "collapsed_sections": []
    },
    "kernelspec": {
      "name": "python3",
      "display_name": "Python 3"
    }
  },
  "cells": [
    {
      "cell_type": "code",
      "metadata": {
        "id": "sIxZaj4ulk7t"
      },
      "source": [
        "import tensorflow as tf\n",
        "import pandas as pd\n",
        "import numpy as np\n",
        "from tensorflow.keras.models import Sequential\n",
        "from tensorflow.keras.layers import Conv2D, MaxPooling2D, Dense, Flatten\n",
        "import matplotlib.pyplot as plt"
      ],
      "execution_count": null,
      "outputs": []
    },
    {
      "cell_type": "code",
      "metadata": {
        "id": "X3ORrSuDmCnK",
        "colab": {
          "base_uri": "https://localhost:8080/",
          "height": 51
        },
        "outputId": "270efec2-a053-42ec-fc87-003ce8dccc55"
      },
      "source": [
        "data = tf.keras.datasets.mnist\n",
        "(train_images, train_labels), (test_images, test_labels) = data.load_data()"
      ],
      "execution_count": null,
      "outputs": [
        {
          "output_type": "stream",
          "text": [
            "Downloading data from https://storage.googleapis.com/tensorflow/tf-keras-datasets/mnist.npz\n",
            "11493376/11490434 [==============================] - 0s 0us/step\n"
          ],
          "name": "stdout"
        }
      ]
    },
    {
      "cell_type": "code",
      "metadata": {
        "id": "5Ci--BDImngF",
        "colab": {
          "base_uri": "https://localhost:8080/",
          "height": 282
        },
        "outputId": "5bc057a2-fba0-4be9-b937-947246a2a6b7"
      },
      "source": [
        "index = 2\n",
        "img = train_images[index]\n",
        "plt.imshow(img)\n",
        "plt.show()\n",
        "print(\"label is \", train_labels[index])"
      ],
      "execution_count": null,
      "outputs": [
        {
          "output_type": "display_data",
          "data": {
            "image/png": "[encoded data removed]",
            "text/plain": [
              "<Figure size 432x288 with 1 Axes>"
            ]
          },
          "metadata": {
            "tags": [],
            "needs_background": "light"
          }
        },
        {
          "output_type": "stream",
          "text": [
            "label is  4\n"
          ],
          "name": "stdout"
        }
      ]
    },
    {
      "cell_type": "code",
      "metadata": {
        "id": "JxQ1Hx5KmsN5",
        "colab": {
          "base_uri": "https://localhost:8080/",
          "height": 282
        },
        "outputId": "c221ef8f-77c9-4581-f543-56121136295a"
      },
      "source": [
        "index1 = 88\n",
        "img = test_images[index1]\n",
        "plt.imshow(img)\n",
        "plt.show()\n",
        "print(\"label is \", test_labels[index1])"
      ],
      "execution_count": null,
      "outputs": [
        {
          "output_type": "display_data",
          "data": {
            "image/png": "[encoded data removed]",
            "text/plain": [
              "<Figure size 432x288 with 1 Axes>"
            ]
          },
          "metadata": {
            "tags": [],
            "needs_background": "light"
          }
        },
        {
          "output_type": "stream",
          "text": [
            "label is  6\n"
          ],
          "name": "stdout"
        }
      ]
    },
    {
      "cell_type": "code",
      "metadata": {
        "id": "vJtxPiROoq-v",
        "colab": {
          "base_uri": "https://localhost:8080/",
          "height": 51
        },
        "outputId": "3d834330-4a1c-4a82-b72c-6ad3dea5b8ee"
      },
      "source": [
        "## shape of data\n",
        "print(train_images.shape)\n",
        "print(train_images[0].shape)"
      ],
      "execution_count": null,
      "outputs": [
        {
          "output_type": "stream",
          "text": [
            "(60000, 28, 28)\n",
            "(28, 28)\n"
          ],
          "name": "stdout"
        }
      ]
    },
    {
      "cell_type": "code",
      "metadata": {
        "id": "DTgYqqbho_AI",
        "colab": {
          "base_uri": "https://localhost:8080/",
          "height": 51
        },
        "outputId": "2b3eba56-f805-4815-fe6f-b5378e167b31"
      },
      "source": [
        "## shape of test data\n",
        "print(test_images.shape)\n",
        "print(test_images[0].shape)"
      ],
      "execution_count": null,
      "outputs": [
        {
          "output_type": "stream",
          "text": [
            "(10000, 28, 28)\n",
            "(28, 28)\n"
          ],
          "name": "stdout"
        }
      ]
    },
    {
      "cell_type": "code",
      "metadata": {
        "id": "u_8MtCL1niZG"
      },
      "source": [
        "### scaling the images\n",
        "def scale_images(train_images, test_images):\n",
        "  train_images = train_images/255.\n",
        "  test_images = test_images/255.\n",
        "\n",
        "  return (train_images, test_images)"
      ],
      "execution_count": null,
      "outputs": []
    },
    {
      "cell_type": "code",
      "metadata": {
        "id": "QaO0AQz6n-HC"
      },
      "source": [
        "scaled_train_images, scaled_test_images = scale_images(train_images, test_images)"
      ],
      "execution_count": null,
      "outputs": []
    },
    {
      "cell_type": "code",
      "metadata": {
        "id": "k5YNKHbjoJra",
        "colab": {
          "base_uri": "https://localhost:8080/",
          "height": 282
        },
        "outputId": "f0c75b0b-f472-4293-edd0-6d5fb09237bb"
      },
      "source": [
        "index_2 = 2\n",
        "img_2 = scaled_train_images[index_2]\n",
        "plt.imshow(img_2)\n",
        "plt.show()\n",
        "print(\"label is \", train_labels[index_2])"
      ],
      "execution_count": null,
      "outputs": [
        {
          "output_type": "display_data",
          "data": {
            "image/png": "[encoded data removed]",
            "text/plain": [
              "<Figure size 432x288 with 1 Axes>"
            ]
          },
          "metadata": {
            "tags": [],
            "needs_background": "light"
          }
        },
        {
          "output_type": "stream",
          "text": [
            "label is  4\n"
          ],
          "name": "stdout"
        }
      ]
    },
    {
      "cell_type": "code",
      "metadata": {
        "id": "99xTiWEboYfv",
        "colab": {
          "base_uri": "https://localhost:8080/",
          "height": 282
        },
        "outputId": "40785072-b94f-4b0a-c564-00da1a5d68ef"
      },
      "source": [
        "index1_2 = 2\n",
        "img1_2 = scaled_test_images[index1_2]\n",
        "plt.imshow(img1_2)\n",
        "plt.show()\n",
        "print(\"label is \", test_labels[index1_2])"
      ],
      "execution_count": null,
      "outputs": [
        {
          "output_type": "display_data",
          "data": {
            "image/png": "[encoded data removed]",
            "text/plain": [
              "<Figure size 432x288 with 1 Axes>"
            ]
          },
          "metadata": {
            "tags": [],
            "needs_background": "light"
          }
        },
        {
          "output_type": "stream",
          "text": [
            "label is  1\n"
          ],
          "name": "stdout"
        }
      ]
    },
    {
      "cell_type": "code",
      "metadata": {
        "id": "K0qg1GrMonBx"
      },
      "source": [
        "### there is no channel dimension in this\n",
        "## adding a dummy channel dimension\n",
        "scaled_train_images = scaled_train_images[..., np.newaxis]\n",
        "scaled_test_images = scaled_test_images[..., np.newaxis]"
      ],
      "execution_count": null,
      "outputs": []
    },
    {
      "cell_type": "code",
      "metadata": {
        "id": "Q-9lAHpwpgzC",
        "colab": {
          "base_uri": "https://localhost:8080/",
          "height": 85
        },
        "outputId": "81b29d09-40a9-4e76-f7c7-542a052cbcad"
      },
      "source": [
        "### checking shape again\n",
        "print(\"scaled_train_images shape is: \", scaled_train_images.shape)\n",
        "print(\"shape of one train img is: \", scaled_train_images[0].shape)\n",
        "print(\"scaled_test_images shape is: \", scaled_test_images.shape)\n",
        "print(\"shape of one test img is: \", scaled_test_images[0].shape)"
      ],
      "execution_count": null,
      "outputs": [
        {
          "output_type": "stream",
          "text": [
            "scaled_train_images shape is:  (60000, 28, 28, 1)\n",
            "shape of one train img is:  (28, 28, 1)\n",
            "scaled_test_images shape is:  (10000, 28, 28, 1)\n",
            "shape of one test img is:  (28, 28, 1)\n"
          ],
          "name": "stdout"
        }
      ]
    },
    {
      "cell_type": "code",
      "metadata": {
        "id": "x90pUmZUqWCL"
      },
      "source": [
        "### making the model\n",
        "def mnist_model(input_shape):\n",
        "  model = Sequential()\n",
        "  model.add(Conv2D(8, (3,3), padding = 'SAME', activation = 'relu', input_shape = input_shape))   ### 8 filters of (3,3) and same padding\n",
        "  model.add(MaxPooling2D((2,2)))                                 #### maxpooling layer\n",
        "  model.add(Flatten())                                           ### flatten layer to unenroll and feed it into a fully connected NN classifier\n",
        "  model.add(Dense(64, activation = 'relu'))                      ### 64 units with \n",
        "  model.add(Dense(64, activation = 'relu'))                      \n",
        "  model.add(Dense(10, activation = 'softmax'))                   ### 10 units to classify integers between 0 and 10\n",
        "\n",
        "  return model"
      ],
      "execution_count": null,
      "outputs": []
    },
    {
      "cell_type": "code",
      "metadata": {
        "id": "Q-1m1w0qr-3n"
      },
      "source": [
        "### get the model\n",
        "model = mnist_model(scaled_train_images[0].shape)                 #### shape here is (28, 28, 1)"
      ],
      "execution_count": null,
      "outputs": []
    },
    {
      "cell_type": "code",
      "metadata": {
        "id": "WiACaF5DsPnT",
        "colab": {
          "base_uri": "https://localhost:8080/",
          "height": 357
        },
        "outputId": "901f7f4f-0875-46fc-bb72-cac86864ce5f"
      },
      "source": [
        "### summary of model\n",
        "model.summary()"
      ],
      "execution_count": null,
      "outputs": [
        {
          "output_type": "stream",
          "text": [
            "Model: \"sequential\"\n",
            "_________________________________________________________________\n",
            "Layer (type)                 Output Shape              Param #   \n",
            "=================================================================\n",
            "conv2d (Conv2D)              (None, 28, 28, 8)         80        \n",
            "_________________________________________________________________\n",
            "max_pooling2d (MaxPooling2D) (None, 14, 14, 8)         0         \n",
            "_________________________________________________________________\n",
            "flatten (Flatten)            (None, 1568)              0         \n",
            "_________________________________________________________________\n",
            "dense (Dense)                (None, 64)                100416    \n",
            "_________________________________________________________________\n",
            "dense_1 (Dense)              (None, 64)                4160      \n",
            "_________________________________________________________________\n",
            "dense_2 (Dense)              (None, 10)                650       \n",
            "=================================================================\n",
            "Total params: 105,306\n",
            "Trainable params: 105,306\n",
            "Non-trainable params: 0\n",
            "_________________________________________________________________\n"
          ],
          "name": "stdout"
        }
      ]
    },
    {
      "cell_type": "code",
      "metadata": {
        "id": "WaaxUFuSsXg2"
      },
      "source": [
        "#### compile the model\n",
        "def compile_model(model):\n",
        "  model.compile(optimizer= 'adam', loss = 'sparse_categorical_crossentropy', metrics = ['accuracy'])"
      ],
      "execution_count": null,
      "outputs": []
    },
    {
      "cell_type": "code",
      "metadata": {
        "id": "-7SMXMSis2jQ"
      },
      "source": [
        "compile_model(model)"
      ],
      "execution_count": null,
      "outputs": []
    },
    {
      "cell_type": "code",
      "metadata": {
        "id": "y0q28JDstNlK"
      },
      "source": [
        "#### train the model\n",
        "def model_train(model, scaled_train_images, train_labels):\n",
        "  his = model.fit(scaled_train_images, train_labels, epochs = 5)          ### history to plot accuracy vs epochs and loss vs epochs\n",
        "  return his"
      ],
      "execution_count": null,
      "outputs": []
    },
    {
      "cell_type": "code",
      "metadata": {
        "id": "xnSxz9JOt1Cs",
        "colab": {
          "base_uri": "https://localhost:8080/",
          "height": 187
        },
        "outputId": "2b12fe3a-3180-42cd-dc8a-f83e7f8be910"
      },
      "source": [
        "history = model_train(model, scaled_train_images, train_labels)"
      ],
      "execution_count": null,
      "outputs": [
        {
          "output_type": "stream",
          "text": [
            "Epoch 1/5\n",
            "1875/1875 [==============================] - 21s 11ms/step - loss: 0.2231 - accuracy: 0.9339\n",
            "Epoch 2/5\n",
            "1875/1875 [==============================] - 21s 11ms/step - loss: 0.0807 - accuracy: 0.9744\n",
            "Epoch 3/5\n",
            "1875/1875 [==============================] - 21s 11ms/step - loss: 0.0544 - accuracy: 0.9831\n",
            "Epoch 4/5\n",
            "1875/1875 [==============================] - 21s 11ms/step - loss: 0.0406 - accuracy: 0.9871\n",
            "Epoch 5/5\n",
            "1875/1875 [==============================] - 22s 11ms/step - loss: 0.0321 - accuracy: 0.9896\n"
          ],
          "name": "stdout"
        }
      ]
    },
    {
      "cell_type": "code",
      "metadata": {
        "id": "LdKrw_JBt7JJ",
        "colab": {
          "base_uri": "https://localhost:8080/",
          "height": 204
        },
        "outputId": "31b7b67f-fade-467d-eebc-54ef98dbbe8a"
      },
      "source": [
        "df = pd.DataFrame(history.history)\n",
        "df"
      ],
      "execution_count": null,
      "outputs": [
        {
          "output_type": "execute_result",
          "data": {
            "text/html": [
              "<div>\n",
              "<style scoped>\n",
              "    .dataframe tbody tr th:only-of-type {\n",
              "        vertical-align: middle;\n",
              "    }\n",
              "\n",
              "    .dataframe tbody tr th {\n",
              "        vertical-align: top;\n",
              "    }\n",
              "\n",
              "    .dataframe thead th {\n",
              "        text-align: right;\n",
              "    }\n",
              "</style>\n",
              "<table border=\"1\" class=\"dataframe\">\n",
              "  <thead>\n",
              "    <tr style=\"text-align: right;\">\n",
              "      <th></th>\n",
              "      <th>loss</th>\n",
              "      <th>accuracy</th>\n",
              "    </tr>\n",
              "  </thead>\n",
              "  <tbody>\n",
              "    <tr>\n",
              "      <th>0</th>\n",
              "      <td>0.223122</td>\n",
              "      <td>0.933867</td>\n",
              "    </tr>\n",
              "    <tr>\n",
              "      <th>1</th>\n",
              "      <td>0.080663</td>\n",
              "      <td>0.974450</td>\n",
              "    </tr>\n",
              "    <tr>\n",
              "      <th>2</th>\n",
              "      <td>0.054439</td>\n",
              "      <td>0.983083</td>\n",
              "    </tr>\n",
              "    <tr>\n",
              "      <th>3</th>\n",
              "      <td>0.040558</td>\n",
              "      <td>0.987133</td>\n",
              "    </tr>\n",
              "    <tr>\n",
              "      <th>4</th>\n",
              "      <td>0.032143</td>\n",
              "      <td>0.989567</td>\n",
              "    </tr>\n",
              "  </tbody>\n",
              "</table>\n",
              "</div>"
            ],
            "text/plain": [
              "       loss  accuracy\n",
              "0  0.223122  0.933867\n",
              "1  0.080663  0.974450\n",
              "2  0.054439  0.983083\n",
              "3  0.040558  0.987133\n",
              "4  0.032143  0.989567"
            ]
          },
          "metadata": {
            "tags": []
          },
          "execution_count": 28
        }
      ]
    },
    {
      "cell_type": "code",
      "metadata": {
        "id": "jPslzluzuF66",
        "colab": {
          "base_uri": "https://localhost:8080/",
          "height": 312
        },
        "outputId": "be25e0eb-ac71-4f3d-a8f2-eace86a2dddd"
      },
      "source": [
        "### accuracy vs epochs\n",
        "acc_plot = df.plot(y = 'accuracy', title = 'accuracy vs epochs')\n",
        "acc_plot.set(xlabel = 'epochs', ylabel = 'accuracy')"
      ],
      "execution_count": null,
      "outputs": [
        {
          "output_type": "execute_result",
          "data": {
            "text/plain": [
              "[Text(0, 0.5, 'accuracy'), Text(0.5, 0, 'epochs')]"
            ]
          },
          "metadata": {
            "tags": []
          },
          "execution_count": 29
        },
        {
          "output_type": "display_data",
          "data": {
            "image/png": "[encoded data removed]",
            "text/plain": [
              "<Figure size 432x288 with 1 Axes>"
            ]
          },
          "metadata": {
            "tags": [],
            "needs_background": "light"
          }
        }
      ]
    },
    {
      "cell_type": "code",
      "metadata": {
        "id": "CGCzoOomuf1l",
        "colab": {
          "base_uri": "https://localhost:8080/",
          "height": 312
        },
        "outputId": "337f1ba3-3035-4c76-ae0f-295ede3650c6"
      },
      "source": [
        "#### loss vs epochs\n",
        "acc_plot1 = df.plot(y = 'loss', title = 'loss vs epochs')\n",
        "acc_plot1.set(xlabel = 'epochs', ylabel = 'loss')"
      ],
      "execution_count": null,
      "outputs": [
        {
          "output_type": "execute_result",
          "data": {
            "text/plain": [
              "[Text(0, 0.5, 'loss'), Text(0.5, 0, 'epochs')]"
            ]
          },
          "metadata": {
            "tags": []
          },
          "execution_count": 31
        },
        {
          "output_type": "display_data",
          "data": {
            "image/png": "[encoded data removed]",
            "text/plain": [
              "<Figure size 432x288 with 1 Axes>"
            ]
          },
          "metadata": {
            "tags": [],
            "needs_background": "light"
          }
        }
      ]
    },
    {
      "cell_type": "code",
      "metadata": {
        "id": "O_xD-WVduv41"
      },
      "source": [
        "##### evaluate the model\n",
        "def model_eval(model, scaled_test_images, test_labels):\n",
        "  test_loss, test_accuracy = model.evaluate(scaled_test_images, test_labels, verbose=0)\n",
        "  return (test_loss, test_accuracy)"
      ],
      "execution_count": null,
      "outputs": []
    },
    {
      "cell_type": "code",
      "metadata": {
        "id": "3AVpIJJ5vZZp",
        "colab": {
          "base_uri": "https://localhost:8080/",
          "height": 51
        },
        "outputId": "f165344a-2c69-43e9-f924-42705e18a2a3"
      },
      "source": [
        "test_loss, test_accuracy = model_eval(model, scaled_test_images, test_labels)\n",
        "print(\"test_loss is: \", test_loss)\n",
        "print(\"test_accuracy is :\", test_accuracy)"
      ],
      "execution_count": null,
      "outputs": [
        {
          "output_type": "stream",
          "text": [
            "test_loss is:  0.052392665296792984\n",
            "test_accuracy is : 0.9846000075340271\n"
          ],
          "name": "stdout"
        }
      ]
    },
    {
      "cell_type": "code",
      "metadata": {
        "id": "rU1fQ8QCvoh0",
        "colab": {
          "base_uri": "https://localhost:8080/",
          "height": 282
        },
        "outputId": "9f33ab3b-3151-47f1-a9e8-bb9e2262effc"
      },
      "source": [
        "#### check predictions\n",
        "### taking random images from test data set\n",
        "random_idx = np.random.randint(scaled_test_images.shape[0])\n",
        "random_img = scaled_test_images[random_idx]\n",
        "random_label = test_labels[random_idx]\n",
        "print(\"label is :\", random_label)\n",
        "plt.imshow(np.squeeze(random_img))\n",
        "plt.show()"
      ],
      "execution_count": null,
      "outputs": [
        {
          "output_type": "stream",
          "text": [
            "label is : 2\n"
          ],
          "name": "stdout"
        },
        {
          "output_type": "display_data",
          "data": {
            "image/png": "[encoded data removed]",
            "text/plain": [
              "<Figure size 432x288 with 1 Axes>"
            ]
          },
          "metadata": {
            "tags": [],
            "needs_background": "light"
          }
        }
      ]
    }
  ]
}